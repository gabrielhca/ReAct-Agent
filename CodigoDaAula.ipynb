{
  "nbformat": 4,
  "nbformat_minor": 0,
  "metadata": {
    "colab": {
      "provenance": []
    },
    "kernelspec": {
      "name": "python3",
      "display_name": "Python 3"
    },
    "language_info": {
      "name": "python"
    }
  },
  "cells": [
    {
      "cell_type": "code",
      "source": [
        "%pip install groq"
      ],
      "metadata": {
        "colab": {
          "base_uri": "https://localhost:8080/"
        },
        "collapsed": true,
        "id": "eB89g1D6HQEj",
        "outputId": "2eb48383-f5d7-433c-a424-68b3ceabb40c"
      },
      "execution_count": null,
      "outputs": [
        {
          "output_type": "stream",
          "name": "stdout",
          "text": [
            "Collecting groq\n",
            "  Downloading groq-0.29.0-py3-none-any.whl.metadata (16 kB)\n",
            "Requirement already satisfied: anyio<5,>=3.5.0 in /usr/local/lib/python3.11/dist-packages (from groq) (4.9.0)\n",
            "Requirement already satisfied: distro<2,>=1.7.0 in /usr/local/lib/python3.11/dist-packages (from groq) (1.9.0)\n",
            "Requirement already satisfied: httpx<1,>=0.23.0 in /usr/local/lib/python3.11/dist-packages (from groq) (0.28.1)\n",
            "Requirement already satisfied: pydantic<3,>=1.9.0 in /usr/local/lib/python3.11/dist-packages (from groq) (2.11.7)\n",
            "Requirement already satisfied: sniffio in /usr/local/lib/python3.11/dist-packages (from groq) (1.3.1)\n",
            "Requirement already satisfied: typing-extensions<5,>=4.10 in /usr/local/lib/python3.11/dist-packages (from groq) (4.14.0)\n",
            "Requirement already satisfied: idna>=2.8 in /usr/local/lib/python3.11/dist-packages (from anyio<5,>=3.5.0->groq) (3.10)\n",
            "Requirement already satisfied: certifi in /usr/local/lib/python3.11/dist-packages (from httpx<1,>=0.23.0->groq) (2025.6.15)\n",
            "Requirement already satisfied: httpcore==1.* in /usr/local/lib/python3.11/dist-packages (from httpx<1,>=0.23.0->groq) (1.0.9)\n",
            "Requirement already satisfied: h11>=0.16 in /usr/local/lib/python3.11/dist-packages (from httpcore==1.*->httpx<1,>=0.23.0->groq) (0.16.0)\n",
            "Requirement already satisfied: annotated-types>=0.6.0 in /usr/local/lib/python3.11/dist-packages (from pydantic<3,>=1.9.0->groq) (0.7.0)\n",
            "Requirement already satisfied: pydantic-core==2.33.2 in /usr/local/lib/python3.11/dist-packages (from pydantic<3,>=1.9.0->groq) (2.33.2)\n",
            "Requirement already satisfied: typing-inspection>=0.4.0 in /usr/local/lib/python3.11/dist-packages (from pydantic<3,>=1.9.0->groq) (0.4.1)\n",
            "Downloading groq-0.29.0-py3-none-any.whl (130 kB)\n",
            "\u001b[2K   \u001b[90m━━━━━━━━━━━━━━━━━━━━━━━━━━━━━━━━━━━━━━━━\u001b[0m \u001b[32m130.8/130.8 kB\u001b[0m \u001b[31m2.9 MB/s\u001b[0m eta \u001b[36m0:00:00\u001b[0m\n",
            "\u001b[?25hInstalling collected packages: groq\n",
            "Successfully installed groq-0.29.0\n"
          ]
        }
      ]
    },
    {
      "cell_type": "code",
      "source": [
        "import os\n",
        "from groq import Groq\n",
        "\n",
        "client = Groq(\n",
        "    api_key=os.environ.get(\"GROQ_API_KEY\"),\n",
        ")\n",
        "\n",
        "chat_completion = client.chat.completions.create(\n",
        "    messages=[\n",
        "        {\n",
        "            \"role\": \"user\",\n",
        "            \"content\": \"Explain the importance of fast language models\",\n",
        "        }\n",
        "    ],\n",
        "    model=\"llama-3.3-70b-versatile\",\n",
        ")\n",
        "\n",
        "print(chat_completion.choices[0].message.content)"
      ],
      "metadata": {
        "colab": {
          "base_uri": "https://localhost:8080/"
        },
        "collapsed": true,
        "id": "_yngH8JlH4Tp",
        "outputId": "6c86238d-cdf5-4e67-e5d5-de0ae4eb3dba"
      },
      "execution_count": null,
      "outputs": [
        {
          "output_type": "stream",
          "name": "stdout",
          "text": [
            "Fast language models are crucial in today's technology-driven world, offering numerous benefits across various industries and applications. Here are some key reasons why fast language models are important:\n",
            "\n",
            "1. **Improved User Experience**: Fast language models can process and respond to user inputs quickly, providing an instant and seamless experience. This is particularly important in real-time applications like chatbots, voice assistants, and language translation software.\n",
            "2. **Increased Efficiency**: Fast language models can handle a large volume of text data, enabling them to process and analyze vast amounts of information quickly. This leads to increased efficiency in tasks like text classification, sentiment analysis, and information retrieval.\n",
            "3. **Real-Time Applications**: Fast language models are essential for real-time applications like speech recognition, language translation, and sentiment analysis. They can process and respond to user inputs in a matter of milliseconds, making them ideal for applications that require instant feedback.\n",
            "4. **Edge AI**: With the proliferation of edge AI devices, fast language models are crucial for enabling AI capabilities on devices with limited computational resources. They can process and analyze data locally, reducing latency and improving overall performance.\n",
            "5. **Scalability**: Fast language models can handle a large number of concurrent requests, making them ideal for large-scale applications like customer service chatbots, language translation platforms, and text analysis tools.\n",
            "6. **Energy Efficiency**: Fast language models can be optimized for energy efficiency, reducing the computational resources required to process and analyze data. This is particularly important for devices with limited power resources, like smartphones and edge devices.\n",
            "7. **Enhanced Security**: Fast language models can be used for real-time threat detection, analyzing vast amounts of data to identify potential security threats. They can also be used to detect and prevent phishing attacks, spam, and other types of cyber threats.\n",
            "8. **Improved Accessibility**: Fast language models can be used to develop assistive technologies like speech-to-text systems, language translation software, and text-to-speech systems, making it easier for people with disabilities to interact with technology.\n",
            "9. **Competitive Advantage**: Companies that adopt fast language models can gain a competitive advantage by providing faster, more efficient, and more accurate services to their customers. This can lead to increased customer satisfaction, loyalty, and ultimately, revenue growth.\n",
            "10. **Future-Proofing**: Fast language models are essential for future-proofing businesses and applications, as they can adapt to changing user behaviors, new technologies, and emerging trends.\n",
            "\n",
            "Some examples of fast language models include:\n",
            "\n",
            "* **Transformers**: A type of neural network architecture that uses self-attention mechanisms to process input sequences in parallel.\n",
            "* **Recurrent Neural Networks (RNNs)**: A type of neural network that uses recurrent connections to process input sequences sequentially.\n",
            "* **Convolutional Neural Networks (CNNs)**: A type of neural network that uses convolutional and pooling layers to process input sequences.\n",
            "\n",
            "In summary, fast language models are essential for providing instant, seamless, and efficient experiences in various applications, from chatbots and voice assistants to language translation software and text analysis tools. They offer numerous benefits, including improved user experience, increased efficiency, real-time applications, edge AI, scalability, energy efficiency, enhanced security, improved accessibility, competitive advantage, and future-proofing.\n"
          ]
        }
      ]
    },
    {
      "cell_type": "code",
      "source": [
        "class Agent:\n",
        "    def __init__(self, client: Groq, system: str = \"\") -> None:\n",
        "        self.client = client\n",
        "        self.system = system\n",
        "        self.messages: list = []\n",
        "        if self.system is not None:\n",
        "            self.messages.append({\"role\": \"system\", \"content\": system})\n",
        "\n",
        "    def __call__(self, message=\"\"):\n",
        "        if message:\n",
        "            self.messages.append({\"role\": \"user\", \"content\": message})\n",
        "        result = self.execute()\n",
        "        self.messages.append({\"role\": \"assistant\", \"content\": result})\n",
        "        return result\n",
        "\n",
        "    def execute(self):\n",
        "        completion = client.chat.completions.create(\n",
        "            model=\"llama3-70b-8192\", messages=self.messages\n",
        "        )\n",
        "        return completion.choices[0].message.content"
      ],
      "metadata": {
        "id": "mtEtwqQQIaaP"
      },
      "execution_count": null,
      "outputs": []
    },
    {
      "cell_type": "code",
      "source": [
        "system_prompt = \"\"\"\n",
        "You run in a loop of Thought, Action, PAUSE, Observation.\n",
        "At the end of the loop you output an Answer\n",
        "Use Thought to describe your thoughts about the question you have been asked.\n",
        "Use Action to run one of the actions available to you - then return PAUSE.\n",
        "Observation will be the result of running those actions.\n",
        "\n",
        "Your available actions are:\n",
        "\n",
        "calculate:\n",
        "e.g. calculate: 4 * 7 / 3\n",
        "Runs a calculation and returns the number - uses Python so be sure to use floating point syntax if necessary\n",
        "\n",
        "get_planet_mass:\n",
        "e.g. get_planet_mass: Earth\n",
        "returns weight of the planet in kg\n",
        "\n",
        "Example session:\n",
        "\n",
        "Question: What is the mass of Earth times 2?\n",
        "Thought: I need to find the mass of Earth\n",
        "Action: get_planet_mass: Earth\n",
        "PAUSE\n",
        "\n",
        "You will be called again with this:\n",
        "\n",
        "Observation: 5.972e24\n",
        "\n",
        "Thought: I need to multiply this by 2\n",
        "Action: calculate: 5.972e24 * 2\n",
        "PAUSE\n",
        "\n",
        "You will be called again with this:\n",
        "\n",
        "Observation: 1,1944×10e25\n",
        "\n",
        "If you have the answer, output it as the Answer.\n",
        "\n",
        "Answer: The mass of Earth times 2 is 1,1944×10e25.\n",
        "\n",
        "Now it's your turn:\n",
        "\"\"\".strip()\n",
        "\n",
        "def calculate(operation: str) -> float:\n",
        "    return eval(operation)\n",
        "\n",
        "def get_planet_mass(planet) -> float:\n",
        "    match planet.lower():\n",
        "        case \"earth\":\n",
        "            return 5.972e24\n",
        "        case \"jupiter\":\n",
        "            return 1.898e27\n",
        "        case \"mars\":\n",
        "            return 6.39e23\n",
        "        case \"mercury\":\n",
        "            return 3.285e23\n",
        "        case \"neptune\":\n",
        "            return 1.024e26\n",
        "        case \"saturn\":\n",
        "            return 5.683e26\n",
        "        case \"uranus\":\n",
        "            return 8.681e25\n",
        "        case \"venus\":\n",
        "            return 4.867e24\n",
        "        case _:\n",
        "            return 0.0"
      ],
      "metadata": {
        "id": "qEalQwU1J_hk"
      },
      "execution_count": null,
      "outputs": []
    },
    {
      "cell_type": "code",
      "source": [
        "import re\n",
        "\n",
        "\n",
        "def loop(max_iterations=10, query: str = \"\"):\n",
        "\n",
        "    agent = Agent(client=client, system=system_prompt)\n",
        "\n",
        "    tools = [\"calculate\", \"get_planet_mass\"]\n",
        "\n",
        "    next_prompt = query\n",
        "\n",
        "    i = 0\n",
        "\n",
        "    while i < max_iterations:\n",
        "        i += 1\n",
        "        result = agent(next_prompt)\n",
        "        print(result)\n",
        "\n",
        "        if \"PAUSE\" in result and \"Action\" in result:\n",
        "            action = re.findall(r\"Action: ([a-z_]+): (.+)\", result, re.IGNORECASE)\n",
        "            chosen_tool = action[0][0]\n",
        "            arg = action[0][1]\n",
        "\n",
        "            if chosen_tool in tools:\n",
        "                result_tool = eval(f\"{chosen_tool}('{arg}')\")\n",
        "                next_prompt = f\"Observation: {result_tool}\"\n",
        "\n",
        "            else:\n",
        "                next_prompt = \"Observation: Tool not found\"\n",
        "\n",
        "            print(next_prompt)\n",
        "            continue\n",
        "\n",
        "        if \"Answer\" in result:\n",
        "            break\n",
        "\n",
        "\n",
        "loop(query=\"What is the mass of Earth plus the mass of Saturn and all of that times 2?\")"
      ],
      "metadata": {
        "colab": {
          "base_uri": "https://localhost:8080/"
        },
        "collapsed": true,
        "id": "EXLVZWKVKMCO",
        "outputId": "08a6b485-0640-44e4-cfc9-6bb98544ac9b"
      },
      "execution_count": null,
      "outputs": [
        {
          "output_type": "stream",
          "name": "stdout",
          "text": [
            "Thought: I need to find the mass of Earth and Saturn, then add them together and multiply the result by 2.\n",
            "Thought: I need to find the mass of Earth and Saturn. \n",
            "Action: get_planet_mass: Earth\n",
            "PAUSE\n",
            "Observation: 5.972e+24\n",
            "Thought: Now I have the mass of Earth, I need to find the mass of Saturn.\n",
            "Action: get_planet_mass: Saturn\n",
            "PAUSE\n",
            "Observation: 5.683e+26\n",
            "Thought: Now I have the mass of Earth and Saturn, I need to add them together.\n",
            "Action: calculate: 5.972e24 + 5.683e26\n",
            "PAUSE\n",
            "Observation: 5.74272e+26\n",
            "Thought: Now I have the sum of the masses, I need to multiply it by 2.\n",
            "Action: calculate: 5.74272e26 * 2\n",
            "PAUSE\n",
            "Observation: 1.148544e+27\n",
            "Thought: I have the final result.\n",
            "Answer: The mass of Earth plus the mass of Saturn and all of that times 2 is 1.148544e+27.\n"
          ]
        }
      ]
    },
    {
      "cell_type": "code",
      "source": [
        "neil_tyson = Agent(client=client, system=system_prompt)"
      ],
      "metadata": {
        "id": "dmjEHvmpKvll"
      },
      "execution_count": null,
      "outputs": []
    },
    {
      "cell_type": "code",
      "source": [
        "result = neil_tyson(\"What is the mass of Earth times 5?\")\n",
        "print(result)"
      ],
      "metadata": {
        "colab": {
          "base_uri": "https://localhost:8080/"
        },
        "id": "jfLaKqcXK85s",
        "outputId": "14dc5a73-df0f-46cf-ef7d-b13d77adfe25"
      },
      "execution_count": null,
      "outputs": [
        {
          "output_type": "stream",
          "name": "stdout",
          "text": [
            "Action: get_planet_mass: Earth\n",
            "PAUSE\n"
          ]
        }
      ]
    },
    {
      "cell_type": "code",
      "source": [
        "neil_tyson.menssages"
      ],
      "metadata": {
        "colab": {
          "base_uri": "https://localhost:8080/"
        },
        "id": "8V-pn7zbL2Bg",
        "outputId": "e2c0a7e7-c3f9-4644-dde2-00445278f006"
      },
      "execution_count": null,
      "outputs": [
        {
          "output_type": "stream",
          "name": "stdout",
          "text": [
            "\n"
          ]
        }
      ]
    },
    {
      "cell_type": "code",
      "source": [
        "result = neil_tyson()\n",
        "print(result)"
      ],
      "metadata": {
        "colab": {
          "base_uri": "https://localhost:8080/"
        },
        "id": "QtDs_ax1MHAU",
        "outputId": "f26338e1-9a70-44d9-9555-b953240eb8e7"
      },
      "execution_count": null,
      "outputs": [
        {
          "output_type": "stream",
          "name": "stdout",
          "text": [
            "\n"
          ]
        }
      ]
    },
    {
      "cell_type": "code",
      "source": [
        "observation = get_planet_mass(\"Earth\")\n",
        "print(observation)"
      ],
      "metadata": {
        "colab": {
          "base_uri": "https://localhost:8080/"
        },
        "id": "AjO6DE4eMUTO",
        "outputId": "6feae83c-4165-4ccb-d5da-89073e02e372"
      },
      "execution_count": null,
      "outputs": [
        {
          "output_type": "stream",
          "name": "stdout",
          "text": [
            "5.972e+24\n"
          ]
        }
      ]
    },
    {
      "cell_type": "code",
      "source": [
        "next_prompt = f\"Observation: {observation}\"\n",
        "result = neil_tyson(next_prompt)\n",
        "print(result)"
      ],
      "metadata": {
        "colab": {
          "base_uri": "https://localhost:8080/"
        },
        "id": "M63BAJzWMkm0",
        "outputId": "a4081b32-3e1a-417d-be38-414bf356a971"
      },
      "execution_count": null,
      "outputs": [
        {
          "output_type": "stream",
          "name": "stdout",
          "text": [
            "Thought: I have the answer\n",
            "Answer: The mass of Earth times 3.55 is 2.1141375e+25.\n"
          ]
        }
      ]
    },
    {
      "cell_type": "code",
      "source": [
        "neil_tyson.menssages"
      ],
      "metadata": {
        "id": "WcfxCl3QN1I-"
      },
      "execution_count": null,
      "outputs": []
    },
    {
      "cell_type": "code",
      "source": [
        "result = neil_tyson()\n",
        "print(result)"
      ],
      "metadata": {
        "colab": {
          "base_uri": "https://localhost:8080/"
        },
        "id": "D1_X95btNGoB",
        "outputId": "d6146010-9f95-43ae-fc34-70344aca5f4f"
      },
      "execution_count": null,
      "outputs": [
        {
          "output_type": "stream",
          "name": "stdout",
          "text": [
            "Thought: I have the answer\n",
            "Answer: The mass of Earth times 5 is 2.986e+25.\n"
          ]
        }
      ]
    },
    {
      "cell_type": "code",
      "source": [
        "observation = calculate(\"3.3285e23 * 5\")\n",
        "print(observation)"
      ],
      "metadata": {
        "colab": {
          "base_uri": "https://localhost:8080/"
        },
        "id": "BF_dqo4wNKHf",
        "outputId": "d3016e6b-7d0f-4ff0-994a-db7d03b406c2"
      },
      "execution_count": null,
      "outputs": [
        {
          "output_type": "stream",
          "name": "stdout",
          "text": [
            "1.66425e+24\n"
          ]
        }
      ]
    },
    {
      "cell_type": "code",
      "source": [
        "next_prompt = f\"Observation: {observation}\"\n",
        "result = neil_tyson(next_prompt)\n",
        "print(result)"
      ],
      "metadata": {
        "colab": {
          "base_uri": "https://localhost:8080/"
        },
        "id": "sKB_1RgkNpeV",
        "outputId": "1dcd57e7-fcdd-46d0-de1e-42524d7f63a9"
      },
      "execution_count": null,
      "outputs": [
        {
          "output_type": "stream",
          "name": "stdout",
          "text": [
            "Thought: This is not the answer to the original question. I need to multiply this by 5.\n",
            "Action: calculate: 1.66425e+24 * 5\n",
            "PAUSE\n"
          ]
        }
      ]
    },
    {
      "cell_type": "code",
      "source": [
        "neil_tyson.menssages"
      ],
      "metadata": {
        "id": "DhPHL9hvN2ce"
      },
      "execution_count": null,
      "outputs": []
    },
    {
      "cell_type": "code",
      "source": [
        "import re\n",
        "\n",
        "result = \"\"\"\n",
        "Action: calculate: 5.972e24 * 5\n",
        "PAUSE\n",
        "\"\"\"\n",
        "action = re.findall(r\"Action: ([a-z]+): (.+)\", result, re.IGNORECASE)"
      ],
      "metadata": {
        "id": "rOYSKrDGQDEu"
      },
      "execution_count": null,
      "outputs": []
    },
    {
      "cell_type": "code",
      "source": [
        "action"
      ],
      "metadata": {
        "id": "XoHAWElPQVCy"
      },
      "execution_count": null,
      "outputs": []
    },
    {
      "cell_type": "code",
      "source": [
        "import re\n",
        "\n",
        "def agent_loop(max_iterations, system, query):\n",
        "  agent = Agent(client, system_prompt)\n",
        "  tools = ['calculate', 'get_planet_mass']\n",
        "  next_prompt = query\n",
        "  i = 0\n",
        "  while i < max_iterations:\n",
        "    i += 1\n",
        "    result = agent(next_prompt)\n",
        "    print(result)\n",
        "\n",
        "    if \"PAUSE\" in result and \"Action\" in result:\n",
        "      action = re.findall(r\"Action: ([a-z]+): (.+)\", result, re.IGNORECASE)\n",
        "      if action: # Check if action list is not empty\n",
        "        chosen_tool = action[0][0]\n",
        "        arg = action[0][1]\n",
        "\n",
        "        if chosen_tool in tools:\n",
        "          result_tool = eval(f\"{chosen_tool}('{arg}')\")\n",
        "          next_prompt = f\"Observation: {result_tool}\"\n",
        "        else:\n",
        "          next_prompt = \"Observation: Tool not foud\"\n",
        "\n",
        "      else: # Handle cases where Action is not found in the expected format\n",
        "        next_prompt = \"Observation: Action not found in expected format\"\n",
        "\n",
        "\n",
        "      print(next_prompt)\n",
        "      continue\n",
        "\n",
        "    if \"Answer\" in result:\n",
        "      break"
      ],
      "metadata": {
        "id": "yyaoiw5MOEby"
      },
      "execution_count": 1,
      "outputs": []
    },
    {
      "cell_type": "code",
      "metadata": {
        "colab": {
          "base_uri": "https://localhost:8080/"
        },
        "id": "24945ae6",
        "outputId": "5078140b-36de-4148-f7c4-a36f6e96b502"
      },
      "source": [
        "agent_loop(max_iterations=10, system=system_prompt, query=\"What is the mass of the Earth plus the mass of Mercury, and all of it times 5?\")"
      ],
      "execution_count": null,
      "outputs": [
        {
          "output_type": "stream",
          "name": "stdout",
          "text": [
            "Thought: I need to find the masses of Earth and Mercury and then add them together, then multiply the result by 5.\n",
            "\n",
            "Action: get_planet_mass: Earth\n",
            "PAUSE\n",
            "Observation: Action not found in expected format\n",
            "Thought: I need to find the masses of Earth and Mercury and then add them together, then multiply the result by 5.\n",
            "\n",
            "Action: get_planet_mass: Earth\n",
            "PAUSE\n",
            "Observation: Action not found in expected format\n",
            "Thought: I need to find the masses of Earth and Mercury and then add them together, then multiply the result by 5.\n",
            "\n",
            "Action: get_planet_mass: Earth\n",
            "PAUSE\n",
            "Observation: Action not found in expected format\n",
            "Thought: I need to find the masses of Earth and Mercury.\n",
            "\n",
            "Action: get_planet_mass: Earth\n",
            "PAUSE\n",
            "Observation: Action not found in expected format\n",
            "Thought: I need to find the masses of Earth and Mercury.\n",
            "\n",
            "Action: get_planet_mass: Earth\n",
            "PAUSE\n",
            "Observation: Action not found in expected format\n",
            "Thought: I need to find the masses of Earth and Mercury.\n",
            "\n",
            "Action: get_planet_mass: Earth\n",
            "PAUSE\n",
            "Observation: Action not found in expected format\n",
            "Thought: I need to find the masses of Earth and Mercury.\n",
            "\n",
            "Action: get_planet_mass: Earth\n",
            "PAUSE\n",
            "Observation: Action not found in expected format\n",
            "Thought: I need to find the mass of Earth.\n",
            "\n",
            "Action: get_planet_mass: Earth\n",
            "PAUSE\n",
            "Observation: Action not found in expected format\n",
            "Thought: I need to find the mass of Earth.\n",
            "\n",
            "Action: get_planet_mass: Earth\n",
            "PAUSE\n",
            "Observation: Action not found in expected format\n",
            "Thought: I need to find the mass of Earth.\n",
            "\n",
            "Action: get_planet_mass: Earth\n",
            "PAUSE\n",
            "Observation: Action not found in expected format\n"
          ]
        }
      ]
    }
  ]
}